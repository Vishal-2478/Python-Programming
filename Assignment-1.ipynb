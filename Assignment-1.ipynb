{
 "cells": [
  {
   "cell_type": "code",
   "execution_count": 21,
   "id": "c4d64a4c-55e3-4703-bf59-7a7660b836f8",
   "metadata": {},
   "outputs": [
    {
     "name": "stdin",
     "output_type": "stream",
     "text": [
      "Enter number of items:  3\n",
      "Enter first number of tuple 1:  1\n",
      "Enter second number of tuple 1:  7\n",
      "Enter first number of tuple 2:  2\n",
      "Enter second number of tuple 2:  5\n",
      "Enter first number of tuple 3:  3\n",
      "Enter second number of tuple 3:  4\n"
     ]
    },
    {
     "name": "stdout",
     "output_type": "stream",
     "text": [
      "[(3, 4), (2, 5), (1, 7)]\n"
     ]
    }
   ],
   "source": [
    "# Q.1 Write a Python program to sort a list of tuples in increasing order by the last element in each tuple.\n",
    "n = int(input(\"Enter number of items: \"))\n",
    "sample_list = []\n",
    "\n",
    "for i in range(n):\n",
    "    a = int(input(f\"Enter first number of tuple {i+1}: \"))\n",
    "    b = int(input(f\"Enter second number of tuple {i+1}: \"))\n",
    "    sample_list.append((a, b))\n",
    "\n",
    "sorted_list = sorted(sample_list, key=lambda x: x[-1])\n",
    "\n",
    "print(sorted_list)"
   ]
  },
  {
   "cell_type": "code",
   "execution_count": 7,
   "id": "c0573348-5405-4273-9a05-dd3042c2ca9c",
   "metadata": {},
   "outputs": [
    {
     "name": "stdin",
     "output_type": "stream",
     "text": [
      "Enter the string :  restart\n"
     ]
    },
    {
     "name": "stdout",
     "output_type": "stream",
     "text": [
      "resta$t\n"
     ]
    }
   ],
   "source": [
    "# Q. 2 Write a Python program to get a string from a given string \n",
    "# where all occurrences of its first character have been changed to '$', except the first character itself\n",
    "\n",
    "s = input(\"Enter the string : \")\n",
    "\n",
    "first_char = s[0]\n",
    "result = first_char + s[1:].replace(first_char, \"$\")\n",
    "print(result)"
   ]
  },
  {
   "cell_type": "code",
   "execution_count": 14,
   "id": "9452f245-2ea1-41e8-856f-8f0b2036e28f",
   "metadata": {},
   "outputs": [
    {
     "name": "stdin",
     "output_type": "stream",
     "text": [
      "Enter the string :  The lyrics is not that poor!\n"
     ]
    },
    {
     "name": "stdout",
     "output_type": "stream",
     "text": [
      "The lyrics is good!\n"
     ]
    }
   ],
   "source": [
    "# Q. 3 Write a Python function that takes a string as input, and replaces all occurrences of \"not ... poor\" with \"good\"\n",
    "\n",
    "s = input(\"Enter the string : \")\n",
    "\n",
    "not_index = s.find(\"not\")\n",
    "poor_index = s.find(\"poor\")\n",
    "\n",
    "if not_index != -1 and poor_index != -1 and not_index < poor_index:\n",
    "    s = s[:not_index] + \"good\" + s[poor_index+4:]\n",
    "\n",
    "print(s)"
   ]
  },
  {
   "cell_type": "code",
   "execution_count": 17,
   "id": "9b357266-7ffb-4b1c-8b5a-593dca97a4f0",
   "metadata": {},
   "outputs": [
    {
     "name": "stdin",
     "output_type": "stream",
     "text": [
      "Enter number of items:  3\n",
      "Enter key:  b\n",
      "Enter value:  1\n",
      "Enter key:  c\n",
      "Enter value:  2\n",
      "Enter key:  a\n",
      "Enter value:  3\n"
     ]
    },
    {
     "name": "stdout",
     "output_type": "stream",
     "text": [
      "{'b': 1, 'c': 2, 'a': 3}\n"
     ]
    }
   ],
   "source": [
    "# Q. 4 Write a Python program to sort a dictionary by value\n",
    "\n",
    "n = int(input(\"Enter number of items: \"))\n",
    "d = {}\n",
    "\n",
    "for i in range(n):\n",
    "    key = input(\"Enter key: \")\n",
    "    value = int(input(\"Enter value: \"))\n",
    "    d[key] = value\n",
    "\n",
    "items = list(d.items())\n",
    "temp = sorted(items, key=lambda x: x[1])\n",
    "sorted_dict = dict(temp)\n",
    "print(sorted_dict)"
   ]
  },
  {
   "cell_type": "code",
   "execution_count": 18,
   "id": "731239ff-a8c9-440e-9d83-3e848113bf4f",
   "metadata": {},
   "outputs": [
    {
     "name": "stdin",
     "output_type": "stream",
     "text": [
      "Enter number of items:  3\n",
      "Enter key (integer):  0\n",
      "Enter value:  10\n",
      "Enter key (integer):  1\n",
      "Enter value:  20\n",
      "Enter key (integer):  3\n",
      "Enter value:  30\n",
      "Enter new key:  4\n",
      "Enter new value:  70\n"
     ]
    },
    {
     "name": "stdout",
     "output_type": "stream",
     "text": [
      "{0: 10, 1: 20, 3: 30, 4: 70}\n"
     ]
    }
   ],
   "source": [
    "# Q. 5 Write a Python script to add a key to a dictionary\n",
    "\n",
    "n = int(input(\"Enter number of items: \"))\n",
    "d = {}\n",
    "\n",
    "for i in range(n):\n",
    "    key = int(input(\"Enter key (integer): \"))\n",
    "    value = int(input(\"Enter value: \"))\n",
    "    d[key] = value\n",
    "\n",
    "# Take new key and value\n",
    "new_key = int(input(\"Enter new key: \"))\n",
    "new_value = int(input(\"Enter new value: \"))\n",
    "\n",
    "d[new_key] = new_value\n",
    "\n",
    "print(d)"
   ]
  },
  {
   "cell_type": "code",
   "execution_count": null,
   "id": "f7ada9c9-7e3f-4b5d-b844-4e4d0aa8216e",
   "metadata": {},
   "outputs": [],
   "source": []
  }
 ],
 "metadata": {
  "kernelspec": {
   "display_name": "Python 3 (ipykernel)",
   "language": "python",
   "name": "python3"
  },
  "language_info": {
   "codemirror_mode": {
    "name": "ipython",
    "version": 3
   },
   "file_extension": ".py",
   "mimetype": "text/x-python",
   "name": "python",
   "nbconvert_exporter": "python",
   "pygments_lexer": "ipython3",
   "version": "3.11.5"
  }
 },
 "nbformat": 4,
 "nbformat_minor": 5
}
