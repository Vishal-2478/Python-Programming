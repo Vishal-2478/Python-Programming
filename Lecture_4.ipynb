{
 "cells": [
  {
   "cell_type": "code",
   "execution_count": 1,
   "id": "af3c1100-f84c-46c1-924a-f41136ac9251",
   "metadata": {},
   "outputs": [],
   "source": [
    "# Sequential control statements\n",
    "# selection control statements\n",
    "# Iterative control statement"
   ]
  },
  {
   "cell_type": "code",
   "execution_count": 2,
   "id": "9a584efe-ad46-40d2-a991-228ddad0ec5a",
   "metadata": {},
   "outputs": [
    {
     "name": "stdin",
     "output_type": "stream",
     "text": [
      "Enter a number : 6\n"
     ]
    },
    {
     "name": "stdout",
     "output_type": "stream",
     "text": [
      "7\n"
     ]
    }
   ],
   "source": [
    "# Program to increment a number if it's positive\n",
    "\n",
    "num = int(input(\"Enter a number :\"))\n",
    "if(num > 0):\n",
    "    num = num + 1;\n",
    "print(num)"
   ]
  },
  {
   "cell_type": "code",
   "execution_count": 7,
   "id": "d2fe09f3-ee6e-4457-8815-1c40fcd45819",
   "metadata": {},
   "outputs": [
    {
     "name": "stdin",
     "output_type": "stream",
     "text": [
      "Enter age :  20\n"
     ]
    },
    {
     "name": "stdout",
     "output_type": "stream",
     "text": [
      "You are eligible to vote\n"
     ]
    }
   ],
   "source": [
    "# WAP whether the person is eligible to vote or not (Age criteria - above 18 years )\n",
    "\n",
    "age = int(input(\"Enter age : \"))\n",
    "if(age >= 18 ):\n",
    "    print(\"You are eligible to vote\")\n",
    "else:\n",
    "    print(\"You are NOT eligible to vote\")"
   ]
  },
  {
   "cell_type": "code",
   "execution_count": 10,
   "id": "01e3ae27-7717-4604-9645-25c293de2a90",
   "metadata": {},
   "outputs": [
    {
     "name": "stdin",
     "output_type": "stream",
     "text": [
      "Press any key :  b\n"
     ]
    },
    {
     "name": "stdout",
     "output_type": "stream",
     "text": [
      "b is a character\n"
     ]
    }
   ],
   "source": [
    "# WAP to determine the character entered by the user\n",
    "\n",
    "char = input(\"Press any key : \")\n",
    "if(char.isalpha()):\n",
    "    print(f\"{char} is a character\")\n",
    "elif(char.isdigit()):\n",
    "    print(f\"{char} is a character\")\n",
    "elif(char.isspace()):\n",
    "    print(f\"{char} is a character\")\n"
   ]
  },
  {
   "cell_type": "code",
   "execution_count": 12,
   "id": "4dc51d6b-3e5b-47bb-ac15-e566b87a6f23",
   "metadata": {},
   "outputs": [
    {
     "name": "stdin",
     "output_type": "stream",
     "text": [
      "Enter age :  10\n"
     ]
    },
    {
     "name": "stdout",
     "output_type": "stream",
     "text": [
      "You have to wait for 8 years to become eligible to vote\n"
     ]
    }
   ],
   "source": [
    "# WAP to determine whether the person is eligible to vote or not if not , display how many years are left to become eligible\n",
    "\n",
    "age = int(input(\"Enter age : \"))\n",
    "\n",
    "if(age >= 18 ):\n",
    "    print(\"You are eligible to vote\")\n",
    "else:\n",
    "    diff = 18 - age\n",
    "    print(f\"You have to wait for {diff} years to become eligible to vote\")"
   ]
  },
  {
   "cell_type": "code",
   "execution_count": 14,
   "id": "5d4b7d92-8f6b-4deb-aed6-03e4bc64feec",
   "metadata": {},
   "outputs": [
    {
     "name": "stdin",
     "output_type": "stream",
     "text": [
      "Enter first number :  7\n",
      "Enter first number :  2\n"
     ]
    },
    {
     "name": "stdout",
     "output_type": "stream",
     "text": [
      "7 is larger\n"
     ]
    }
   ],
   "source": [
    "# WAP to find which number is large\n",
    "\n",
    "num1 = int(input(\"Enter first number : \"))\n",
    "num2 = int(input(\"Enter second number : \"))\n",
    "\n",
    "if(num1 > num2):\n",
    "    print(f\"{num1} is larger\")\n",
    "elif(num1 < num2):\n",
    "    print(f\"{num2} is larger\")\n",
    "else:\n",
    "    print(\"Both numbers are equal\")"
   ]
  },
  {
   "cell_type": "code",
   "execution_count": 18,
   "id": "9e2e83e7-fcb9-404d-9beb-fc22abe4b3ef",
   "metadata": {},
   "outputs": [
    {
     "name": "stdin",
     "output_type": "stream",
     "text": [
      "Enter the character b\n"
     ]
    },
    {
     "name": "stdout",
     "output_type": "stream",
     "text": [
      "after converting : B\n"
     ]
    }
   ],
   "source": [
    "#WAP to enter any character , if entered char is in lowercase , convert into Uppercase and vice versa\n",
    "\n",
    "char = input(\"Enter the character\" )\n",
    "if(char.isupper()):\n",
    "    char = char.lower();\n",
    "elif(char.islower()):\n",
    "    char = char.upper();\n",
    "print(f\"after converting : {char}\")"
   ]
  },
  {
   "cell_type": "code",
   "execution_count": null,
   "id": "0c04f785-dc29-4f08-a005-e929361e8821",
   "metadata": {},
   "outputs": [],
   "source": []
  },
  {
   "cell_type": "code",
   "execution_count": null,
   "id": "369f8077-1a6c-4797-ae8a-600aebfeec1f",
   "metadata": {},
   "outputs": [],
   "source": []
  }
 ],
 "metadata": {
  "kernelspec": {
   "display_name": "Python 3 (ipykernel)",
   "language": "python",
   "name": "python3"
  },
  "language_info": {
   "codemirror_mode": {
    "name": "ipython",
    "version": 3
   },
   "file_extension": ".py",
   "mimetype": "text/x-python",
   "name": "python",
   "nbconvert_exporter": "python",
   "pygments_lexer": "ipython3",
   "version": "3.11.5"
  }
 },
 "nbformat": 4,
 "nbformat_minor": 5
}
