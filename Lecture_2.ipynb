{
 "cells": [
  {
   "cell_type": "code",
   "execution_count": null,
   "id": "9b1292d5-0de9-4902-a926-870e984a55ab",
   "metadata": {},
   "outputs": [],
   "source": [
    "#Concatenation"
   ]
  },
  {
   "cell_type": "code",
   "execution_count": 1,
   "id": "daf229dc-7861-46eb-b8d0-9c7fc7f92a72",
   "metadata": {},
   "outputs": [
    {
     "name": "stdout",
     "output_type": "stream",
     "text": [
      "good + morning\n"
     ]
    }
   ],
   "source": [
    "print(\"good + morning\");"
   ]
  },
  {
   "cell_type": "code",
   "execution_count": 12,
   "id": "a85ec8a1-7870-4505-bf43-c229d48d0f41",
   "metadata": {},
   "outputs": [
    {
     "name": "stdout",
     "output_type": "stream",
     "text": [
      "python  Technology\n",
      "python Technology\n"
     ]
    }
   ],
   "source": [
    "print(\"python \" , \"Technology\")\n",
    "print(\"python \" + \"Technology\")"
   ]
  },
  {
   "cell_type": "code",
   "execution_count": 9,
   "id": "5e0d1c3b-5742-4c2c-b61f-e0aa223b995a",
   "metadata": {},
   "outputs": [
    {
     "ename": "TypeError",
     "evalue": "can only concatenate str (not \"float\") to str",
     "output_type": "error",
     "traceback": [
      "\u001b[1;31m---------------------------------------------------------------------------\u001b[0m",
      "\u001b[1;31mTypeError\u001b[0m                                 Traceback (most recent call last)",
      "Cell \u001b[1;32mIn[9], line 1\u001b[0m\n\u001b[1;32m----> 1\u001b[0m \u001b[38;5;28mprint\u001b[39m(\u001b[38;5;124m\"\u001b[39m\u001b[38;5;124mpython \u001b[39m\u001b[38;5;124m\"\u001b[39m \u001b[38;5;241m+\u001b[39m \u001b[38;5;241m3.5\u001b[39m)\n",
      "\u001b[1;31mTypeError\u001b[0m: can only concatenate str (not \"float\") to str"
     ]
    }
   ],
   "source": [
    "print(\"python \" + 3.5)"
   ]
  },
  {
   "cell_type": "code",
   "execution_count": 5,
   "id": "a4006d69-fbc7-4174-a4db-cdb85fa585e2",
   "metadata": {},
   "outputs": [
    {
     "name": "stdout",
     "output_type": "stream",
     "text": [
      "python3.5\n"
     ]
    }
   ],
   "source": [
    "print(\"python\" + \"3.5\")"
   ]
  },
  {
   "cell_type": "code",
   "execution_count": 14,
   "id": "3f40e682-7de8-4227-8b58-9ae2f1b04b9e",
   "metadata": {},
   "outputs": [
    {
     "name": "stdout",
     "output_type": "stream",
     "text": [
      "Good Good Good Good Good \n"
     ]
    }
   ],
   "source": [
    "print(\"Good \" * 5)"
   ]
  },
  {
   "cell_type": "code",
   "execution_count": 16,
   "id": "815fc674-1270-424d-8e13-49cd94dfb659",
   "metadata": {},
   "outputs": [
    {
     "name": "stdout",
     "output_type": "stream",
     "text": [
      " Good Good Good Good Good\n"
     ]
    }
   ],
   "source": [
    "print(5 * \" Good\")"
   ]
  },
  {
   "cell_type": "code",
   "execution_count": 17,
   "id": "3722f340-e07d-4355-b049-2be0d9202954",
   "metadata": {},
   "outputs": [
    {
     "ename": "TypeError",
     "evalue": "can't multiply sequence by non-int of type 'str'",
     "output_type": "error",
     "traceback": [
      "\u001b[1;31m---------------------------------------------------------------------------\u001b[0m",
      "\u001b[1;31mTypeError\u001b[0m                                 Traceback (most recent call last)",
      "Cell \u001b[1;32mIn[17], line 1\u001b[0m\n\u001b[1;32m----> 1\u001b[0m \u001b[38;5;28mprint\u001b[39m(\u001b[38;5;124m\"\u001b[39m\u001b[38;5;124mGood\u001b[39m\u001b[38;5;124m\"\u001b[39m \u001b[38;5;241m*\u001b[39m \u001b[38;5;124m\"\u001b[39m\u001b[38;5;124m5\u001b[39m\u001b[38;5;124m\"\u001b[39m)\n",
      "\u001b[1;31mTypeError\u001b[0m: can't multiply sequence by non-int of type 'str'"
     ]
    }
   ],
   "source": [
    "print(\"Good\" * \"5\")"
   ]
  },
  {
   "cell_type": "code",
   "execution_count": 18,
   "id": "a0534548-baa7-4f30-9b0b-19c530476389",
   "metadata": {},
   "outputs": [],
   "source": [
    "#Slicing"
   ]
  },
  {
   "cell_type": "code",
   "execution_count": 21,
   "id": "d8810d81-04c1-426c-85c5-bd75e6b478d7",
   "metadata": {},
   "outputs": [
    {
     "name": "stdout",
     "output_type": "stream",
     "text": [
      "python is easy!!!\n",
      "p\n"
     ]
    }
   ],
   "source": [
    "str = \"python is easy!!!\"\n",
    "print(str)\n",
    "print(str[0])"
   ]
  },
  {
   "cell_type": "code",
   "execution_count": 23,
   "id": "c4765d36-c8e8-4900-8beb-b22be5392691",
   "metadata": {},
   "outputs": [
    {
     "name": "stdout",
     "output_type": "stream",
     "text": [
      "hon is\n",
      "on is easy!!!\n"
     ]
    }
   ],
   "source": [
    "print(str[3:9])\n",
    "print(str[4:])"
   ]
  },
  {
   "cell_type": "code",
   "execution_count": 24,
   "id": "e83bfb93-9d79-4134-b37b-0b55b6dc34e0",
   "metadata": {},
   "outputs": [
    {
     "name": "stdout",
     "output_type": "stream",
     "text": [
      "!\n"
     ]
    }
   ],
   "source": [
    "print(str[-1])"
   ]
  },
  {
   "cell_type": "code",
   "execution_count": 25,
   "id": "251500df-a7f2-4fad-9910-c5954d9494f6",
   "metadata": {},
   "outputs": [
    {
     "name": "stdout",
     "output_type": "stream",
     "text": [
      "pytho\n"
     ]
    }
   ],
   "source": [
    "print(str[:5])"
   ]
  },
  {
   "cell_type": "code",
   "execution_count": null,
   "id": "d494301f-0071-4e79-aea7-88b024b4ab3b",
   "metadata": {},
   "outputs": [],
   "source": [
    "#Unicode"
   ]
  },
  {
   "cell_type": "code",
   "execution_count": 29,
   "id": "201c86f0-83d5-47e3-b53f-fde8d67a91f8",
   "metadata": {},
   "outputs": [
    {
     "name": "stdout",
     "output_type": "stream",
     "text": [
      "What's your name?\n"
     ]
    }
   ],
   "source": [
    "#print('What's your name?')\n",
    "print('What\\'s your name?')"
   ]
  },
  {
   "cell_type": "code",
   "execution_count": 34,
   "id": "3fb2a39c-ae87-4385-baf1-85da2d53c6ed",
   "metadata": {},
   "outputs": [
    {
     "name": "stdout",
     "output_type": "stream",
     "text": [
      "The boy replies\\, \"My name is Vishal\"\n"
     ]
    }
   ],
   "source": [
    "print(\"The boy replies\\, \\\"My name is Vishal\\\"\")"
   ]
  },
  {
   "cell_type": "code",
   "execution_count": 37,
   "id": "916183f3-2a51-479d-8114-874ffabc16f5",
   "metadata": {},
   "outputs": [
    {
     "name": "stdout",
     "output_type": "stream",
     "text": [
      "The boy replies\n",
      " My name is Vishal\n"
     ]
    }
   ],
   "source": [
    "print(\"The boy replies\\n My name is Vishal\")"
   ]
  },
  {
   "cell_type": "code",
   "execution_count": 36,
   "id": "14f36ac1-c194-4a50-a0ad-09abee483132",
   "metadata": {},
   "outputs": [
    {
     "name": "stdout",
     "output_type": "stream",
     "text": [
      "The boy replies\t My name is Vishal\n"
     ]
    }
   ],
   "source": [
    "print(\"The boy replies\\t My name is Vishal\")"
   ]
  },
  {
   "cell_type": "code",
   "execution_count": 42,
   "id": "7d8c1bfc-77c1-4539-a990-952037fe7c11",
   "metadata": {},
   "outputs": [
    {
     "name": "stdout",
     "output_type": "stream",
     "text": [
      "The boy replies \\My name is Vishal\n"
     ]
    }
   ],
   "source": [
    "print(\"The boy replies \\My name is Vishal\")"
   ]
  },
  {
   "cell_type": "code",
   "execution_count": 43,
   "id": "905bf411-a2ad-4172-99ce-5917e0a5145a",
   "metadata": {},
   "outputs": [
    {
     "name": "stdout",
     "output_type": "stream",
     "text": [
      "\\\n"
     ]
    }
   ],
   "source": [
    "#Escape Sequence\n",
    "\n",
    "print(\"\\\\\")"
   ]
  },
  {
   "cell_type": "code",
   "execution_count": 60,
   "id": "1918f9e9-061a-4f3b-8e77-96fb707721ae",
   "metadata": {},
   "outputs": [
    {
     "name": "stdout",
     "output_type": "stream",
     "text": [
      "'\n"
     ]
    }
   ],
   "source": [
    "print(\"\\'\")"
   ]
  },
  {
   "cell_type": "code",
   "execution_count": 50,
   "id": "5f8f908c-1b2a-46ba-a6e9-37b01b83d710",
   "metadata": {},
   "outputs": [
    {
     "name": "stdout",
     "output_type": "stream",
     "text": [
      "\"\n"
     ]
    }
   ],
   "source": [
    "print(\"\\\"\")"
   ]
  },
  {
   "cell_type": "code",
   "execution_count": 51,
   "id": "51e884ec-b9bb-48c7-80a1-b8b2963cb60d",
   "metadata": {},
   "outputs": [
    {
     "name": "stdout",
     "output_type": "stream",
     "text": [
      "Hello\n",
      " world\n"
     ]
    }
   ],
   "source": [
    "print(\"Hello\\n world\")"
   ]
  },
  {
   "cell_type": "code",
   "execution_count": 58,
   "id": "9c882574-f213-4eb9-b7a5-b5a54839e230",
   "metadata": {},
   "outputs": [
    {
     "name": "stdout",
     "output_type": "stream",
     "text": [
      "Hello\t world\n"
     ]
    }
   ],
   "source": [
    "print(\"Hello\\t world\")"
   ]
  },
  {
   "cell_type": "code",
   "execution_count": 63,
   "id": "8b8af993-18d7-4fe2-8dc6-55b74751ec1a",
   "metadata": {},
   "outputs": [
    {
     "name": "stdout",
     "output_type": "stream",
     "text": [
      ".\n"
     ]
    }
   ],
   "source": [
    "print(\"\\056\")"
   ]
  },
  {
   "cell_type": "code",
   "execution_count": 57,
   "id": "811d1b39-02c3-451c-bf93-8ee126f65b09",
   "metadata": {},
   "outputs": [
    {
     "name": "stdout",
     "output_type": "stream",
     "text": [
      ".\n"
     ]
    }
   ],
   "source": [
    "print(\"\\x2E\")"
   ]
  },
  {
   "cell_type": "code",
   "execution_count": 65,
   "id": "cc2cdedb-0c10-466d-a4c5-a43abf5243b8",
   "metadata": {},
   "outputs": [
    {
     "name": "stdout",
     "output_type": "stream",
     "text": [
      "27\n"
     ]
    }
   ],
   "source": [
    "# Convert 11011 to Decimal\n",
    "\n",
    "str = \"11011\"\n",
    "num = int(str, 2)\n",
    "print(num)"
   ]
  },
  {
   "cell_type": "code",
   "execution_count": 66,
   "id": "2905fd5d-4c9c-4866-b525-e26bd94df840",
   "metadata": {},
   "outputs": [
    {
     "data": {
      "text/plain": [
       "'0o63'"
      ]
     },
     "execution_count": 66,
     "metadata": {},
     "output_type": "execute_result"
    }
   ],
   "source": [
    "num = 51\n",
    "oct(num)"
   ]
  },
  {
   "cell_type": "code",
   "execution_count": 79,
   "id": "1a968817-6c1e-406f-a0e1-ac3b48be5431",
   "metadata": {},
   "outputs": [
    {
     "data": {
      "text/plain": [
       "2"
      ]
     },
     "execution_count": 79,
     "metadata": {},
     "output_type": "execute_result"
    }
   ],
   "source": [
    "x = 2\n",
    "y = 3\n",
    "x & y"
   ]
  },
  {
   "cell_type": "code",
   "execution_count": 84,
   "id": "c8c33eec-1699-4f84-a27b-cbbfba7ab94e",
   "metadata": {},
   "outputs": [
    {
     "name": "stdout",
     "output_type": "stream",
     "text": [
      "6\n"
     ]
    }
   ],
   "source": [
    "x = 2; y = 4\n",
    "print(y | x)"
   ]
  },
  {
   "cell_type": "code",
   "execution_count": 85,
   "id": "025425be-9bd6-40d4-8c3a-c2987bd93928",
   "metadata": {},
   "outputs": [
    {
     "name": "stdout",
     "output_type": "stream",
     "text": [
      "-3\n"
     ]
    }
   ],
   "source": [
    "x = 2;\n",
    "print(~x)"
   ]
  },
  {
   "cell_type": "code",
   "execution_count": 87,
   "id": "0d87143f-16f8-4667-ac57-d49ed9b832a7",
   "metadata": {},
   "outputs": [
    {
     "name": "stdout",
     "output_type": "stream",
     "text": [
      "1\n"
     ]
    }
   ],
   "source": [
    "x = 2 ; y = 3\n",
    "print(x ^ y)"
   ]
  },
  {
   "cell_type": "code",
   "execution_count": 89,
   "id": "2251f9a8-4328-4370-8e67-69bdb6eac181",
   "metadata": {},
   "outputs": [
    {
     "name": "stdout",
     "output_type": "stream",
     "text": [
      "3\n"
     ]
    }
   ],
   "source": [
    "x = 6\n",
    "print(x >> 1)"
   ]
  },
  {
   "cell_type": "code",
   "execution_count": 94,
   "id": "d8754b5d-3c34-49ff-a4ce-135ff3da16af",
   "metadata": {},
   "outputs": [
    {
     "name": "stdout",
     "output_type": "stream",
     "text": [
      "32\n"
     ]
    }
   ],
   "source": [
    "x = 4\n",
    "print(x << 3)"
   ]
  },
  {
   "cell_type": "code",
   "execution_count": 95,
   "id": "2662367b-b1cb-4e96-b889-0ecc51a7787c",
   "metadata": {},
   "outputs": [],
   "source": [
    "# Identity Opeartors\n",
    "# is  ;  is not"
   ]
  },
  {
   "cell_type": "code",
   "execution_count": 96,
   "id": "b3d7410d-6a54-4981-b9d0-47c76e933272",
   "metadata": {},
   "outputs": [
    {
     "name": "stdout",
     "output_type": "stream",
     "text": [
      "x is y False\n"
     ]
    }
   ],
   "source": [
    "# Memory location is different for list\n",
    "\n",
    "x = [1,2]\n",
    "y = [1,2]\n",
    "print(\"x is y\", x is y)"
   ]
  },
  {
   "cell_type": "code",
   "execution_count": 99,
   "id": "e0892dc5-b8f7-4ab1-a331-7112886f1687",
   "metadata": {},
   "outputs": [
    {
     "name": "stdout",
     "output_type": "stream",
     "text": [
      "True\n"
     ]
    }
   ],
   "source": [
    "z = x\n",
    "print(x is z)"
   ]
  },
  {
   "cell_type": "code",
   "execution_count": 106,
   "id": "d6f91d0e-23ea-4814-af75-02670cac00b9",
   "metadata": {},
   "outputs": [
    {
     "name": "stdout",
     "output_type": "stream",
     "text": [
      "False\n",
      "True\n",
      "False\n"
     ]
    }
   ],
   "source": [
    "x1 = 5\n",
    "y1 = 5\n",
    "x2 = \"hello\"\n",
    "y2 = \"hello\"\n",
    "x3 = [1, 2, 3]\n",
    "y3 = [1, 2, 3]\n",
    "\n",
    "print(x1 is not y1)\n",
    "print(x2 is y2)\n",
    "print(x3 is y3)"
   ]
  },
  {
   "cell_type": "code",
   "execution_count": 107,
   "id": "5daffff5-d7bd-439a-b852-f27495e4de53",
   "metadata": {},
   "outputs": [],
   "source": [
    "# MemberShip Operator\n",
    "\n",
    "# in ; not in"
   ]
  },
  {
   "cell_type": "code",
   "execution_count": 125,
   "id": "494a0743-cafd-4d30-88ef-5f9616d56f8b",
   "metadata": {},
   "outputs": [
    {
     "name": "stdout",
     "output_type": "stream",
     "text": [
      "True\n"
     ]
    }
   ],
   "source": [
    "#Check if H is present in the message\n",
    "message = \"HELLO WORLD\"\n",
    "dict = { 1 : 'a' , 2 : 'b' }\n",
    "print('H' in message)"
   ]
  },
  {
   "cell_type": "code",
   "execution_count": 126,
   "id": "b437ec6a-7fe5-4f21-9e38-1905b74acf00",
   "metadata": {},
   "outputs": [
    {
     "name": "stdout",
     "output_type": "stream",
     "text": [
      "True\n"
     ]
    }
   ],
   "source": [
    "# Check if HELLO is present in the message string\n",
    "print('HELLO' in message)"
   ]
  },
  {
   "cell_type": "code",
   "execution_count": 127,
   "id": "91c5c669-9bb0-475c-89ca-76765f27921c",
   "metadata": {},
   "outputs": [
    {
     "name": "stdout",
     "output_type": "stream",
     "text": [
      "False\n"
     ]
    }
   ],
   "source": [
    "# Check if hello is present in the message string\n",
    "print('hello' in message)"
   ]
  },
  {
   "cell_type": "code",
   "execution_count": 132,
   "id": "1835f47c-9d8b-4713-87f6-228f2423f93c",
   "metadata": {},
   "outputs": [
    {
     "name": "stdout",
     "output_type": "stream",
     "text": [
      "True\n"
     ]
    }
   ],
   "source": [
    "# Check if '1' key is present in the dictionary\n",
    "print(1 in dict)"
   ]
  },
  {
   "cell_type": "code",
   "execution_count": 133,
   "id": "33ad729e-4699-4fba-908c-ee327cca55ff",
   "metadata": {},
   "outputs": [
    {
     "name": "stdout",
     "output_type": "stream",
     "text": [
      "False\n"
     ]
    }
   ],
   "source": [
    "# Check if value a is present in the dictionary\n",
    "print('a' in dict)"
   ]
  },
  {
   "cell_type": "code",
   "execution_count": 137,
   "id": "03746f1c-3533-4f83-b27a-11ca2cd8c43c",
   "metadata": {},
   "outputs": [
    {
     "name": "stdout",
     "output_type": "stream",
     "text": [
      "10\n"
     ]
    }
   ],
   "source": [
    "# Ternary Operator \n",
    "# Syntax = [on_true] if expression else [on_false]\n",
    "a, b = 10, 20\n",
    "min = a if a < b else b\n",
    "print(min)"
   ]
  },
  {
   "cell_type": "code",
   "execution_count": 153,
   "id": "8cb4a311-073c-48aa-b2ae-a52f9dd58011",
   "metadata": {},
   "outputs": [
    {
     "name": "stdout",
     "output_type": "stream",
     "text": [
      "positive\n"
     ]
    }
   ],
   "source": [
    "x = 5\n",
    "result = \"positive\" if x > 0 else \"negative\"\n",
    "print(result)"
   ]
  },
  {
   "cell_type": "code",
   "execution_count": 156,
   "id": "be808f19-947f-4730-ae35-6ae4b1c732ff",
   "metadata": {},
   "outputs": [
    {
     "name": "stdout",
     "output_type": "stream",
     "text": [
      "610\n"
     ]
    }
   ],
   "source": [
    "expr = 10 + 20 * 30\n",
    "print(expr)"
   ]
  },
  {
   "cell_type": "code",
   "execution_count": 160,
   "id": "397854c9-080f-43c9-a849-b5dace7dbd43",
   "metadata": {},
   "outputs": [
    {
     "data": {
      "text/plain": [
       "180.0"
      ]
     },
     "execution_count": 160,
     "metadata": {},
     "output_type": "execute_result"
    }
   ],
   "source": [
    "(40 + 20) * 30 / 10"
   ]
  },
  {
   "cell_type": "code",
   "execution_count": 161,
   "id": "86c1ba8a-9e87-4bf7-8566-296caa064515",
   "metadata": {},
   "outputs": [
    {
     "data": {
      "text/plain": [
       "100.0"
      ]
     },
     "execution_count": 161,
     "metadata": {},
     "output_type": "execute_result"
    }
   ],
   "source": [
    "40 + (20 * 30) / 10"
   ]
  },
  {
   "cell_type": "code",
   "execution_count": 171,
   "id": "1d31d9fc-ab02-424a-ae02-e9ccaf74c0fb",
   "metadata": {},
   "outputs": [
    {
     "data": {
      "text/plain": [
       "True"
      ]
     },
     "execution_count": 171,
     "metadata": {},
     "output_type": "execute_result"
    }
   ],
   "source": [
    "False == False or True"
   ]
  },
  {
   "cell_type": "code",
   "execution_count": 169,
   "id": "8ff613fc-f871-4a8f-82aa-db6cbb6c3d66",
   "metadata": {},
   "outputs": [
    {
     "data": {
      "text/plain": [
       "False"
      ]
     },
     "execution_count": 169,
     "metadata": {},
     "output_type": "execute_result"
    }
   ],
   "source": [
    "False == (False or True)"
   ]
  },
  {
   "cell_type": "code",
   "execution_count": 177,
   "id": "4da13ee2-c04a-4230-b3b8-ae0f8e14fac2",
   "metadata": {},
   "outputs": [
    {
     "name": "stdout",
     "output_type": "stream",
     "text": [
      "100.0\n"
     ]
    }
   ],
   "source": [
    "print(100 / 10 * 10 )"
   ]
  },
  {
   "cell_type": "code",
   "execution_count": 182,
   "id": "bbfff27f-7429-4cfe-8968-2533c143e0d0",
   "metadata": {},
   "outputs": [
    {
     "name": "stdin",
     "output_type": "stream",
     "text": [
      "Enter your lunch fruit\n",
      "Enter the money you have 1\n"
     ]
    },
    {
     "name": "stdout",
     "output_type": "stream",
     "text": [
      "False\n"
     ]
    }
   ],
   "source": [
    "# if else block  whcih runs if where lunch is either fruit or sandwitch and onlyif money is more than or equal to 2\n",
    "\n",
    "lunch = input(\"Enter your lunch\")\n",
    "money = int(input(\"Enter the money you have\"))\n",
    "if((lunch == \"fruit\" or lunch == \"sandwitch\") and money >= 2):\n",
    "    print(True)\n",
    "else:\n",
    "    print(False)"
   ]
  },
  {
   "cell_type": "code",
   "execution_count": 179,
   "id": "97e075d5-c2cd-4755-800e-bd57cb356aef",
   "metadata": {},
   "outputs": [],
   "source": [
    "#"
   ]
  }
 ],
 "metadata": {
  "kernelspec": {
   "display_name": "Python 3 (ipykernel)",
   "language": "python",
   "name": "python3"
  },
  "language_info": {
   "codemirror_mode": {
    "name": "ipython",
    "version": 3
   },
   "file_extension": ".py",
   "mimetype": "text/x-python",
   "name": "python",
   "nbconvert_exporter": "python",
   "pygments_lexer": "ipython3",
   "version": "3.11.5"
  }
 },
 "nbformat": 4,
 "nbformat_minor": 5
}
