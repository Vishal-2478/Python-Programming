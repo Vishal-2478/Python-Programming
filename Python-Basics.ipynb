{
 "cells": [
  {
   "cell_type": "code",
   "execution_count": 22,
   "id": "dfa44068-f08d-4883-8117-b3a00829c8f2",
   "metadata": {},
   "outputs": [],
   "source": [
    "# Operators\n",
    "# Artihmetc Operators"
   ]
  },
  {
   "cell_type": "code",
   "execution_count": 30,
   "id": "ce95857d-f17b-4f40-ad93-f442fdd48562",
   "metadata": {},
   "outputs": [
    {
     "name": "stdout",
     "output_type": "stream",
     "text": [
      "sum =  7\n"
     ]
    }
   ],
   "source": [
    "a = 5\n",
    "b = 2\n",
    "c = a + b\n",
    "print(\"sum = \", c)"
   ]
  },
  {
   "cell_type": "code",
   "execution_count": 41,
   "id": "50437ce9-779c-49bf-a684-ba979d3255a6",
   "metadata": {},
   "outputs": [
    {
     "name": "stdout",
     "output_type": "stream",
     "text": [
      "7\n",
      "3\n",
      "10\n",
      "2.5\n",
      "2\n",
      "-3\n",
      "25\n",
      "1\n",
      "0.1\n",
      "0.5\n",
      "1\n"
     ]
    }
   ],
   "source": [
    "# A // B rounds result to nearest whole number and \n",
    "# in case of negative numbers , it will result towards negative inifnity\n",
    "print(a + b)\n",
    "print(a - b)\n",
    "print(a * b)\n",
    "print(a / b)\n",
    "print(a // b)\n",
    "print(-a // b)\n",
    "print(a ** b)\n",
    "print(a % b)\n",
    "print(10 ** -1)\n",
    "print(2 ** -1)\n",
    "print(7 ** 0)"
   ]
  },
  {
   "cell_type": "code",
   "execution_count": 58,
   "id": "891a4d89-f90f-4b5b-9e3b-fa4977cff3e9",
   "metadata": {},
   "outputs": [
    {
     "name": "stdout",
     "output_type": "stream",
     "text": [
      "False\n",
      "True\n",
      "False\n",
      "True\n",
      "True\n",
      "False\n"
     ]
    }
   ],
   "source": [
    "# Comparison Operators\n",
    "x = 3\n",
    "y = 2\n",
    "print(x == y)\n",
    "print(x > y)\n",
    "print(x < y)\n",
    "print(x != y)\n",
    "print(x >= y)\n",
    "print(x <= y)"
   ]
  },
  {
   "cell_type": "code",
   "execution_count": 69,
   "id": "88a344dc-00c9-4fd7-a7cb-4d6ba229b992",
   "metadata": {
    "scrolled": true
   },
   "outputs": [
    {
     "name": "stdout",
     "output_type": "stream",
     "text": [
      "13\n",
      "9\n",
      "36\n",
      "0\n",
      "0.0\n",
      "0.0\n",
      "4294967296\n"
     ]
    }
   ],
   "source": [
    "#Assignment Operators\n",
    "\n",
    "a = 9\n",
    "a += 4\n",
    "print(a)\n",
    "a -= 4\n",
    "print(a)\n",
    "a *= 4\n",
    "print(a)\n",
    "a %= 4\n",
    "print(a)\n",
    "a /= 4\n",
    "print(a)\n",
    "a //= 4\n",
    "print(a)\n",
    "b **= 4\n",
    "print(b)"
   ]
  },
  {
   "cell_type": "code",
   "execution_count": 95,
   "id": "038ad84b-2bf3-4b5c-8f27-25d7a4682a89",
   "metadata": {},
   "outputs": [
    {
     "name": "stdout",
     "output_type": "stream",
     "text": [
      "False\n",
      "True\n",
      "False\n"
     ]
    }
   ],
   "source": [
    "# Logical Operators\n",
    "\n",
    "a = 2\n",
    "b = 10\n",
    "print(a < 5 and b > 19)\n",
    "print(a < 5 or b > 19)\n",
    "is_Allowance = True\n",
    "print(not is_Allowance)"
   ]
  },
  {
   "cell_type": "code",
   "execution_count": null,
   "id": "50d83da5-d755-45eb-9810-70f2ae0417a8",
   "metadata": {},
   "outputs": [],
   "source": []
  }
 ],
 "metadata": {
  "kernelspec": {
   "display_name": "Python 3 (ipykernel)",
   "language": "python",
   "name": "python3"
  },
  "language_info": {
   "codemirror_mode": {
    "name": "ipython",
    "version": 3
   },
   "file_extension": ".py",
   "mimetype": "text/x-python",
   "name": "python",
   "nbconvert_exporter": "python",
   "pygments_lexer": "ipython3",
   "version": "3.11.5"
  }
 },
 "nbformat": 4,
 "nbformat_minor": 5
}
