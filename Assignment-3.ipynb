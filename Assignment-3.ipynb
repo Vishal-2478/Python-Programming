{
 "cells": [
  {
   "cell_type": "code",
   "execution_count": 1,
   "id": "2bd4df36-e601-49a8-baef-69ca57c1cded",
   "metadata": {},
   "outputs": [
    {
     "name": "stdout",
     "output_type": "stream",
     "text": [
      " 2  3  5  7 11\n",
      "53 59 61 67 13\n",
      "47 89 97 71 17\n",
      "43 83 79 73 19\n",
      "41 37 31 29 23\n"
     ]
    }
   ],
   "source": [
    "# Q1: Print all primes < 100 in a minimal clockwise spiral\n",
    "\n",
    "import math\n",
    "\n",
    "def primes_below(n: int):\n",
    "    if n <= 2:\n",
    "        return []\n",
    "    sieve = [True] * n\n",
    "    sieve[0] = sieve[1] = False\n",
    "    for p in range(2, int(n**0.5) + 1):\n",
    "        if sieve[p]:\n",
    "            sieve[p*p:n:p] = [False] * len(range(p*p, n, p))\n",
    "    return [i for i, ok in enumerate(sieve) if ok]\n",
    "\n",
    "def spiral_fill_clockwise(items):\n",
    "    k = len(items)\n",
    "    n = math.ceil(math.sqrt(k))\n",
    "    grid = [[\"\" for _ in range(n)] for _ in range(n)]\n",
    "\n",
    "    top, bottom, left, right = 0, n-1, 0, n-1\n",
    "    i = 0\n",
    "    while top <= bottom and left <= right and i < k:\n",
    "        for c in range(left, right+1):\n",
    "            if i < k: grid[top][c] = items[i]; i += 1\n",
    "        top += 1\n",
    "        for r in range(top, bottom+1):\n",
    "            if i < k: grid[r][right] = items[i]; i += 1\n",
    "        right -= 1\n",
    "        if top <= bottom:\n",
    "            for c in range(right, left-1, -1):\n",
    "                if i < k: grid[bottom][c] = items[i]; i += 1\n",
    "            bottom -= 1\n",
    "        if left <= right:\n",
    "            for r in range(bottom, top-1, -1):\n",
    "                if i < k: grid[r][left] = items[i]; i += 1\n",
    "            left += 1\n",
    "    return grid\n",
    "\n",
    "def print_grid(grid):\n",
    "    width = max(2, max((len(str(x)) for row in grid for x in row if x != \"\"), default=1))\n",
    "    for row in grid:\n",
    "        print(\" \".join(f\"{str(x):>{width}}\" if x != \"\" else \" \" * width for x in row))\n",
    "\n",
    "if __name__ == \"__main__\":\n",
    "    primes = primes_below(100)\n",
    "    grid = spiral_fill_clockwise(primes)\n",
    "    print_grid(grid)\n"
   ]
  },
  {
   "cell_type": "code",
   "execution_count": 2,
   "id": "76d1531a-b84e-4f7f-8ba6-35179a95dfa3",
   "metadata": {},
   "outputs": [
    {
     "name": "stdout",
     "output_type": "stream",
     "text": [
      "Hourly views graph (1 '*' = 5 views):\n",
      "\n",
      "00: ** (12)\n",
      "01: * (7)\n",
      "02:  (3)\n",
      "03:  (0)\n",
      "04:  (4)\n",
      "05: * (9)\n",
      "06: *** (15)\n",
      "07: **** (22)\n",
      "08: ******* (35)\n",
      "09: ******** (40)\n",
      "10: ***** (28)\n",
      "11: ***** (25)\n",
      "12: *** (18)\n",
      "13: ****** (30)\n",
      "14: ********* (45)\n",
      "15: ********** (50)\n",
      "16: ******* (38)\n",
      "17: ***** (26)\n",
      "18: **** (21)\n",
      "19: *** (17)\n",
      "20: ** (14)\n",
      "21: ** (10)\n",
      "22: * (8)\n",
      "23: * (5)\n"
     ]
    }
   ],
   "source": [
    "# Q2: Text-based hourly views graph (1 '*' represents 5 views)\n",
    "\n",
    "# Replace this list with your 24 hourly view counts\n",
    "hourly_views = [12, 7, 3, 0, 4, 9, 15, 22, 35, 40, 28, 25,\n",
    "                18, 30, 45, 50, 38, 26, 21, 17, 14, 10, 8, 5]\n",
    "\n",
    "print(\"Hourly views graph (1 '*' = 5 views):\\n\")\n",
    "for hour in range(len(hourly_views)):\n",
    "    v = hourly_views[hour]\n",
    "    bar = \"*\" * (v // 5)\n",
    "    print(f\"{hour:02d}: {bar} ({v})\")\n"
   ]
  },
  {
   "cell_type": "code",
   "execution_count": 3,
   "id": "7c3a2e1e-9e90-4121-917b-253b5684ebed",
   "metadata": {},
   "outputs": [
    {
     "name": "stdout",
     "output_type": "stream",
     "text": [
      "Total views: 482\n",
      "Total daily revenue: $56.20\n"
     ]
    }
   ],
   "source": [
    "# Q3: Calculate total daily revenue from hourly views with tiers:\n",
    "# First 10 views: $0.50 each\n",
    "# Next 20 views: $0.30 each\n",
    "# Remaining views: $0.10 each\n",
    "\n",
    "def revenue_from_views(total_views: int) -> float:\n",
    "    tier1 = min(total_views, 10)\n",
    "    tier2 = min(max(total_views - 10, 0), 20)\n",
    "    tier3 = max(total_views - 30, 0)\n",
    "    return tier1 * 0.50 + tier2 * 0.30 + tier3 * 0.10\n",
    "\n",
    "# Replace this list with your 24 hourly view counts\n",
    "hourly_views = [12, 7, 3, 0, 4, 9, 15, 22, 35, 40, 28, 25,\n",
    "                18, 30, 45, 50, 38, 26, 21, 17, 14, 10, 8, 5]\n",
    "\n",
    "total_views = sum(hourly_views)\n",
    "total_revenue = revenue_from_views(total_views)\n",
    "print(f\"Total views: {total_views}\")\n",
    "print(f\"Total daily revenue: ${total_revenue:.2f}\")\n"
   ]
  },
  {
   "cell_type": "code",
   "execution_count": null,
   "id": "b680c01b-81df-4bd9-a426-2770a8bc1d8c",
   "metadata": {},
   "outputs": [],
   "source": []
  }
 ],
 "metadata": {
  "kernelspec": {
   "display_name": "Python 3 (ipykernel)",
   "language": "python",
   "name": "python3"
  },
  "language_info": {
   "codemirror_mode": {
    "name": "ipython",
    "version": 3
   },
   "file_extension": ".py",
   "mimetype": "text/x-python",
   "name": "python",
   "nbconvert_exporter": "python",
   "pygments_lexer": "ipython3",
   "version": "3.11.5"
  }
 },
 "nbformat": 4,
 "nbformat_minor": 5
}
