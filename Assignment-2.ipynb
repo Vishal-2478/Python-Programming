{
 "cells": [
  {
   "cell_type": "code",
   "execution_count": 1,
   "id": "645a3b25-d503-4cd0-909d-27cfde03b0a9",
   "metadata": {},
   "outputs": [
    {
     "name": "stdin",
     "output_type": "stream",
     "text": [
      "Enter a number:  7\n"
     ]
    },
    {
     "name": "stdout",
     "output_type": "stream",
     "text": [
      "Positive\n"
     ]
    }
   ],
   "source": [
    "# Check whether a number is positive, negative, or zero\n",
    "num = float(input(\"Enter a number: \"))\n",
    "\n",
    "if num > 0:\n",
    "    print(\"Positive\")\n",
    "elif num < 0:\n",
    "    print(\"Negative\")\n",
    "else:\n",
    "    print(\"Zero\")\n"
   ]
  },
  {
   "cell_type": "code",
   "execution_count": 2,
   "id": "1343a7f4-13da-4a59-941c-f1546820dddf",
   "metadata": {},
   "outputs": [
    {
     "name": "stdin",
     "output_type": "stream",
     "text": [
      "Enter an integer:  7\n"
     ]
    },
    {
     "name": "stdout",
     "output_type": "stream",
     "text": [
      "Odd\n"
     ]
    }
   ],
   "source": [
    "# Check whether an integer is even or odd\n",
    "n = int(input(\"Enter an integer: \"))\n",
    "\n",
    "if n % 2 == 0:\n",
    "    print(\"Even\")\n",
    "else:\n",
    "    print(\"Odd\")\n"
   ]
  },
  {
   "cell_type": "code",
   "execution_count": 4,
   "id": "037a625c-a880-4779-bd74-8f7e65955862",
   "metadata": {},
   "outputs": [
    {
     "name": "stdin",
     "output_type": "stream",
     "text": [
      "Enter first number:  3\n",
      "Enter second number:  5\n"
     ]
    },
    {
     "name": "stdout",
     "output_type": "stream",
     "text": [
      "Second number is larger: 5\n"
     ]
    }
   ],
   "source": [
    "# Input two numbers and print which one is larger\n",
    "a = int(input(\"Enter first number: \"))\n",
    "b = int(input(\"Enter second number: \"))\n",
    "\n",
    "if a > b:\n",
    "    print(\"First number is larger:\", a)\n",
    "elif b > a:\n",
    "    print(\"Second number is larger:\", b)\n",
    "else:\n",
    "    print(\"Both numbers are equal:\", a)\n"
   ]
  },
  {
   "cell_type": "code",
   "execution_count": 5,
   "id": "b940d172-afd6-48d5-a12f-f2cb9cccaede",
   "metadata": {},
   "outputs": [
    {
     "name": "stdin",
     "output_type": "stream",
     "text": [
      "Enter a number:  -5\n"
     ]
    },
    {
     "name": "stdout",
     "output_type": "stream",
     "text": [
      "Absolute value is: 5\n"
     ]
    }
   ],
   "source": [
    "# Find absolute value without using abs()\n",
    "x = int(input(\"Enter a number: \"))\n",
    "\n",
    "if x < 0:\n",
    "    absolute_value = -x\n",
    "else:\n",
    "    absolute_value = x\n",
    "\n",
    "print(\"Absolute value is:\", absolute_value)\n"
   ]
  },
  {
   "cell_type": "code",
   "execution_count": 6,
   "id": "2411b45a-165f-498c-bfa1-546a7dd6939b",
   "metadata": {},
   "outputs": [
    {
     "name": "stdin",
     "output_type": "stream",
     "text": [
      "Enter your age:  21\n"
     ]
    },
    {
     "name": "stdout",
     "output_type": "stream",
     "text": [
      "Eligible to vote\n"
     ]
    }
   ],
   "source": [
    "# Check voting eligibility (eligible if age >= 18)\n",
    "age = int(input(\"Enter your age: \"))\n",
    "\n",
    "if age >= 18:\n",
    "    print(\"Eligible to vote\")\n",
    "else:\n",
    "    print(\"Not eligible to vote\")\n"
   ]
  },
  {
   "cell_type": "code",
   "execution_count": 1,
   "id": "0ba47597-3a0a-49cf-bfbb-d15892426b18",
   "metadata": {},
   "outputs": [
    {
     "name": "stdin",
     "output_type": "stream",
     "text": [
      "Enter year :  2024\n"
     ]
    },
    {
     "name": "stdout",
     "output_type": "stream",
     "text": [
      "2024 is a leap year\n"
     ]
    }
   ],
   "source": [
    "# Check if a year is a leap year\n",
    "year = int(input(\"Enter year : \"))\n",
    "\n",
    "if (year % 4 == 0) and (year % 100 != 0 or year % 400 == 0):\n",
    "    print(year, \"is a leap year\")\n",
    "else:\n",
    "    print(year, \"is not a leap year\")\n"
   ]
  },
  {
   "cell_type": "code",
   "execution_count": 2,
   "id": "2d8fc26a-577e-4cd7-94f6-196cc8626767",
   "metadata": {},
   "outputs": [
    {
     "name": "stdin",
     "output_type": "stream",
     "text": [
      "Enter marks:  90\n"
     ]
    },
    {
     "name": "stdout",
     "output_type": "stream",
     "text": [
      "Pass\n"
     ]
    }
   ],
   "source": [
    "# Print 'Pass' if marks >= 40 else 'Fail'\n",
    "marks = float(input(\"Enter marks: \"))\n",
    "\n",
    "if marks >= 40:\n",
    "    print(\"Pass\")\n",
    "else:\n",
    "    print(\"Fail\")\n"
   ]
  },
  {
   "cell_type": "code",
   "execution_count": 3,
   "id": "2ee5c4b5-c744-4f41-98d8-ff30944a4256",
   "metadata": {},
   "outputs": [
    {
     "name": "stdin",
     "output_type": "stream",
     "text": [
      "Enter an integer:  25\n"
     ]
    },
    {
     "name": "stdout",
     "output_type": "stream",
     "text": [
      "25 is a multiple of 5\n"
     ]
    }
   ],
   "source": [
    "# Check whether a number is multiple of 5\n",
    "num = int(input(\"Enter an integer: \"))\n",
    "\n",
    "if num % 5 == 0:\n",
    "    print(num, \"is a multiple of 5\")\n",
    "else:\n",
    "    print(num, \"is not a multiple of 5\")\n"
   ]
  },
  {
   "cell_type": "code",
   "execution_count": 9,
   "id": "61849ec4-999c-424f-9211-98d537184b7d",
   "metadata": {},
   "outputs": [
    {
     "name": "stdin",
     "output_type": "stream",
     "text": [
      "Press any key :  S\n"
     ]
    },
    {
     "name": "stdout",
     "output_type": "stream",
     "text": [
      "S is an uppercase letter\n"
     ]
    }
   ],
   "source": [
    "# Input a character and check uppercase, lowercase or not a letter\n",
    "char = input(\"Press any key : \")\n",
    "\n",
    "if char.isalpha():\n",
    "    if char.isupper():\n",
    "        print(char, \"is an uppercase letter\")\n",
    "    else:\n",
    "        print(char, \"is a lowercase letter\")\n",
    "else:\n",
    "    print(char, \"is not a letter\")"
   ]
  },
  {
   "cell_type": "code",
   "execution_count": 10,
   "id": "5036aaf8-bc84-477a-8259-540b5e378a52",
   "metadata": {},
   "outputs": [
    {
     "name": "stdin",
     "output_type": "stream",
     "text": [
      "Enter the purchase amount:  2000\n"
     ]
    },
    {
     "name": "stdout",
     "output_type": "stream",
     "text": [
      "Discount: 200.0\n",
      "Final Bill Amount: 1800.0\n"
     ]
    }
   ],
   "source": [
    "# Discount Calculator\n",
    "\n",
    "amount = float(input(\"Enter the purchase amount: \"))\n",
    "\n",
    "if amount >= 1000:\n",
    "    discount = amount * 0.10\n",
    "    final_amount = amount - discount\n",
    "\n",
    "print(\"Discount:\", discount)\n",
    "print(\"Final Bill Amount:\", final_amount)\n"
   ]
  },
  {
   "cell_type": "code",
   "execution_count": null,
   "id": "ea53e9cc-1bf4-4215-b490-f8db0c222941",
   "metadata": {},
   "outputs": [],
   "source": []
  }
 ],
 "metadata": {
  "kernelspec": {
   "display_name": "Python 3 (ipykernel)",
   "language": "python",
   "name": "python3"
  },
  "language_info": {
   "codemirror_mode": {
    "name": "ipython",
    "version": 3
   },
   "file_extension": ".py",
   "mimetype": "text/x-python",
   "name": "python",
   "nbconvert_exporter": "python",
   "pygments_lexer": "ipython3",
   "version": "3.11.5"
  }
 },
 "nbformat": 4,
 "nbformat_minor": 5
}
