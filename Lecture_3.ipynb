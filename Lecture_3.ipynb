{
 "cells": [
  {
   "cell_type": "code",
   "execution_count": 2,
   "id": "61cf1507-c64f-47a1-97e9-f290ec5f2850",
   "metadata": {},
   "outputs": [
    {
     "name": "stdin",
     "output_type": "stream",
     "text": [
      "What's your name ? vishal\n",
      "Enter your age:  22\n"
     ]
    },
    {
     "name": "stdout",
     "output_type": "stream",
     "text": [
      "vishal , you are 22 year old\n"
     ]
    }
   ],
   "source": [
    "name = input(\"What's your name ?\")\n",
    "age = input(\"Enter your age: \")\n",
    "print(name + \" , you are \" + age + \" year old\")"
   ]
  },
  {
   "cell_type": "code",
   "execution_count": 9,
   "id": "f17b3c79-b700-40ef-8f72-d84e5bdd412d",
   "metadata": {},
   "outputs": [
    {
     "name": "stdin",
     "output_type": "stream",
     "text": [
      "Enter a number 9\n"
     ]
    },
    {
     "name": "stdout",
     "output_type": "stream",
     "text": [
      "Hexadecimal value : 0x9\n",
      "Octal value :  0o11\n",
      "Sqaure root value :  3.0\n"
     ]
    }
   ],
   "source": [
    "# Write a program to enter a nmber and display Hex, octal and square root\n",
    "import math\n",
    "n = int(input(\"Enter a number\"))\n",
    "print(\"Hexadecimal value :\" , hex(n))\n",
    "print(\"Octal value : \", oct(n))\n",
    "print(\"Sqaure root value : \", math.sqrt(n))\n",
    "# print(\"Sqaure root value : \", n ** 0.5)"
   ]
  },
  {
   "cell_type": "code",
   "execution_count": 19,
   "id": "c46b7339-c972-4ffd-b0d7-00762c64a56a",
   "metadata": {},
   "outputs": [
    {
     "name": "stdin",
     "output_type": "stream",
     "text": [
      "Enter value of a 10\n",
      "Enter value of b 12\n",
      "Enter value of c 14\n"
     ]
    },
    {
     "name": "stdout",
     "output_type": "stream",
     "text": [
      "58.79\n"
     ]
    }
   ],
   "source": [
    "# WAP to calculate area of traingle using Hero's formula\n",
    "import math\n",
    "a = float(input(\"Enter value of a\"))\n",
    "b = float(input(\"Enter value of b\"))\n",
    "c = float(input(\"Enter value of c\"))\n",
    "s = (a + b + c) / 2.0\n",
    "\n",
    "res = math.sqrt(s * (s - a) * ( s - b) * (s - c))\n",
    "print(round(res, 2))"
   ]
  },
  {
   "cell_type": "code",
   "execution_count": 22,
   "id": "e229c24e-1155-446c-99e4-b75024eb63d9",
   "metadata": {},
   "outputs": [
    {
     "name": "stdin",
     "output_type": "stream",
     "text": [
      "Enter x co-ordiantes of first point 4\n",
      "Enter y co-ordiantes of first point 2\n",
      "Enter x co-ordiantes of second point 6\n",
      "Enter y co-ordiantes of second point 3\n"
     ]
    },
    {
     "name": "stdout",
     "output_type": "stream",
     "text": [
      "2.23606797749979\n"
     ]
    }
   ],
   "source": [
    "# WAP to calcualte distance betqween two points\n",
    "import math\n",
    "x1 = int(input(\"Enter x co-ordiantes of first point\"))\n",
    "y1 = int(input(\"Enter y co-ordiantes of first point\"))\n",
    "x2 = int(input(\"Enter x co-ordiantes of second point\"))\n",
    "y2 = int(input(\"Enter y co-ordiantes of second point\"))\n",
    "\n",
    "dist = math.sqrt((x2 - x1)**2 + (y2 - y1)**2)\n",
    "print(dist)"
   ]
  },
  {
   "cell_type": "code",
   "execution_count": 24,
   "id": "238aeb7a-326f-4ab8-a385-5acd987d37dc",
   "metadata": {},
   "outputs": [
    {
     "name": "stdin",
     "output_type": "stream",
     "text": [
      "Enter first number :  9\n",
      "Enter second number :  3\n"
     ]
    },
    {
     "name": "stdout",
     "output_type": "stream",
     "text": [
      "Addition is  :  12.0\n",
      "Subtraction is  :  6.0\n",
      "Multiplication is  :  27.0\n",
      "Division is  :  3.0\n"
     ]
    }
   ],
   "source": [
    "# WAP to perform addition, subtraction, division, multiplication of two floating point numbers\n",
    "\n",
    "a = float(input(\"Enter first number : \"))\n",
    "b = float(input(\"Enter second number : \"))\n",
    "print(\"Addition is  : \", a + b)\n",
    "print(\"Subtraction is  : \", a - b)\n",
    "print(\"Multiplication is  : \", a * b)\n",
    "print(\"Division is  : \", a / b)\n"
   ]
  },
  {
   "cell_type": "code",
   "execution_count": null,
   "id": "18e25079-01c0-492b-961d-181e99cd598d",
   "metadata": {},
   "outputs": [],
   "source": [
    "# WAP to calcualte Bill amount for a item given it's quantity sold and price per item , value , discount and Tax\n"
   ]
  },
  {
   "cell_type": "code",
   "execution_count": 50,
   "id": "73ccb7c4-1aee-4e06-adb2-b13eec572ddf",
   "metadata": {},
   "outputs": [
    {
     "name": "stdout",
     "output_type": "stream",
     "text": [
      "**********BILL**********\n",
      "----------\n"
     ]
    }
   ],
   "source": [
    "print(\"*\"*10 + \"BILL\" + \"*\"*10)\n",
    "format('Hello', '<50')\n",
    "print(f\"{'-' * 10 }\")"
   ]
  },
  {
   "cell_type": "code",
   "execution_count": 82,
   "id": "05b712a6-1030-40f4-a22e-b7ce7707036b",
   "metadata": {},
   "outputs": [
    {
     "name": "stdout",
     "output_type": "stream",
     "text": [
      "******************BILL******************\n"
     ]
    },
    {
     "name": "stdin",
     "output_type": "stream",
     "text": [
      "Quantity Sold :  12\n",
      "Price per item :  12\n"
     ]
    },
    {
     "name": "stdout",
     "output_type": "stream",
     "text": [
      "________________________________________\n"
     ]
    },
    {
     "name": "stdin",
     "output_type": "stream",
     "text": [
      "Amount :  12\n",
      "Discount :  12\n"
     ]
    },
    {
     "name": "stdout",
     "output_type": "stream",
     "text": [
      "________________________________________\n"
     ]
    },
    {
     "name": "stdin",
     "output_type": "stream",
     "text": [
      "Discount Total :  12\n",
      "Tax :  12\n"
     ]
    },
    {
     "name": "stdout",
     "output_type": "stream",
     "text": [
      "________________________________________\n"
     ]
    },
    {
     "name": "stdin",
     "output_type": "stream",
     "text": [
      "Total amount to be paid :  12\n"
     ]
    }
   ],
   "source": [
    "print(format(f\"{'*' * 18}BILL{'*' * 18}\"))\n",
    "Quantity = int(input(\"Quantity Sold : \"))\n",
    "Price = float(input(\"Price per item : \"))\n",
    "print(format('_' * 40))\n",
    "Amount = float(input(\"Amount : \"))\n",
    "Discount = float(input(\"Discount : \"))\n",
    "print(format('_' * 40))\n",
    "DiscountTotal = float(input(\"Discount Total : \"))\n",
    "Tax = float(input(\"Tax : \"))\n",
    "print(format('_' * 40))\n",
    "TotalAmount = float(input(\"Total amount to be paid : \"))"
   ]
  },
  {
   "cell_type": "code",
   "execution_count": 89,
   "id": "25156d80-24df-459b-98c1-0251703715d6",
   "metadata": {},
   "outputs": [
    {
     "name": "stdin",
     "output_type": "stream",
     "text": [
      "Enter marks of first exam 20\n",
      "Enter marks of second exam 20\n",
      "Enter marks of sports event 20\n",
      "Enter marks of 1st activity 20\n",
      "Enter marks of 2nd activity 20\n",
      "Enter marks of 3rd activity 20\n"
     ]
    },
    {
     "name": "stdout",
     "output_type": "stream",
     "text": [
      "42.0\n",
      "(20.0, 4.0, 18.0)\n"
     ]
    }
   ],
   "source": [
    "# WAP to calculate students result based on \n",
    "# 2 examinations, 1 sport event and 3 activities conducted\n",
    "# Weightage of activities = 30% , sports = 20% and examination = 50%\n",
    "\n",
    "exam1 = float(input(\"Enter marks of first exam\"))\n",
    "exam2 = float(input(\"Enter marks of second exam\"))\n",
    "sports = float(input(\"Enter marks of sports event\"))\n",
    "activ1 = float(input(\"Enter marks of 1st activity\"))\n",
    "activ2 = float(input(\"Enter marks of 2nd activity\"))\n",
    "activ3 = float(input(\"Enter marks of 3rd activity\"))\n",
    "\n",
    "examMarks = (exam1 + exam2) * 0.5\n",
    "sportMarks = sports * 0.2\n",
    "activityMarks = (activ1 + activ2 + activ3) * 0.3\n",
    "\n",
    "result = (examMarks + sportMarks + activityMarks)\n",
    "print(result)\n",
    "print((examMarks , sportMarks , activityMarks))"
   ]
  },
  {
   "cell_type": "code",
   "execution_count": 91,
   "id": "4a9cd1f3-6073-441d-9a0d-0cfa21fc92a4",
   "metadata": {},
   "outputs": [
    {
     "name": "stdin",
     "output_type": "stream",
     "text": [
      "Enter Fahrenheit value :  97\n"
     ]
    },
    {
     "name": "stdout",
     "output_type": "stream",
     "text": [
      "36.111111111111114\n"
     ]
    }
   ],
   "source": [
    "# WAP to convert degree fahrenheit into degree celsius\n",
    "# fahrenheit = (celsius * 9/5) + 32\n",
    "\n",
    "fahrenheit = float(input(\"Enter Fahrenheit value : \"))\n",
    "celsius = (fahrenheit - 32) * (5 / 9) \n",
    "print(celsius)"
   ]
  },
  {
   "cell_type": "code",
   "execution_count": 96,
   "id": "5c81731e-2a28-4975-beee-7402bb3ee728",
   "metadata": {},
   "outputs": [
    {
     "name": "stdin",
     "output_type": "stream",
     "text": [
      "enter # of Rs.10 coins :  5\n",
      "enter # of Rs.5 coins :  4\n",
      "enter # of Rs.2 coins :  3\n",
      "enter # of Rs.1 coins :  2\n"
     ]
    },
    {
     "name": "stdout",
     "output_type": "stream",
     "text": [
      "78\n"
     ]
    }
   ],
   "source": [
    "# WAP to calculate total amount of money in piggybank , given coins of Rs. 10 , Rs. 5 Rs. 2 , Rs. 1\n",
    "\n",
    "coins_10 = int(input(\"enter # of Rs.10 coins : \"))\n",
    "coins_5 = int(input(\"enter # of Rs.5 coins : \"))\n",
    "coins_2 = int(input(\"enter # of Rs.2 coins : \"))\n",
    "coins_1 = int(input(\"enter # of Rs.1 coins : \"))\n",
    "\n",
    "total = (coins_10 * 10) + (coins_5 * 5) + (coins_2 * 2) + coins_1\n",
    "print(total)\n",
    "              "
   ]
  },
  {
   "cell_type": "code",
   "execution_count": null,
   "id": "b38ce907-3813-4d34-b77b-1a9f4b7a57eb",
   "metadata": {},
   "outputs": [],
   "source": []
  }
 ],
 "metadata": {
  "kernelspec": {
   "display_name": "Python 3 (ipykernel)",
   "language": "python",
   "name": "python3"
  },
  "language_info": {
   "codemirror_mode": {
    "name": "ipython",
    "version": 3
   },
   "file_extension": ".py",
   "mimetype": "text/x-python",
   "name": "python",
   "nbconvert_exporter": "python",
   "pygments_lexer": "ipython3",
   "version": "3.11.5"
  }
 },
 "nbformat": 4,
 "nbformat_minor": 5
}
